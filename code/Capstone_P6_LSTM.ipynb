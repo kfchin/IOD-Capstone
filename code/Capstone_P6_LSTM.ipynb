{
 "cells": [
  {
   "cell_type": "markdown",
   "metadata": {},
   "source": [
    "# Electrical Distribution Network Energy Consumption Forecasting based upon Victorian MRIM Meter Data\n",
    "\n",
    "In this notebook, the Energy Consumption from CitiPower will be forecasted based on Historical Data Using LSTM. "
   ]
  },
  {
   "cell_type": "code",
   "execution_count": 1,
   "metadata": {},
   "outputs": [],
   "source": [
    "import pandas as pd\n",
    "import matplotlib.pyplot as plt\n",
    "import numpy as np\n",
    "import seaborn as sns\n",
    "\n",
    "import warnings\n",
    "warnings.filterwarnings('ignore')\n",
    "\n",
    "%matplotlib inline"
   ]
  },
  {
   "cell_type": "code",
   "execution_count": 2,
   "metadata": {},
   "outputs": [],
   "source": [
    "data = pd.read_csv('citipower.csv')"
   ]
  },
  {
   "cell_type": "code",
   "execution_count": 3,
   "metadata": {},
   "outputs": [
    {
     "data": {
      "text/html": [
       "<div>\n",
       "<style scoped>\n",
       "    .dataframe tbody tr th:only-of-type {\n",
       "        vertical-align: middle;\n",
       "    }\n",
       "\n",
       "    .dataframe tbody tr th {\n",
       "        vertical-align: top;\n",
       "    }\n",
       "\n",
       "    .dataframe thead th {\n",
       "        text-align: right;\n",
       "    }\n",
       "</style>\n",
       "<table border=\"1\" class=\"dataframe\">\n",
       "  <thead>\n",
       "    <tr style=\"text-align: right;\">\n",
       "      <th></th>\n",
       "      <th>SETTD</th>\n",
       "      <th>DAILYT</th>\n",
       "    </tr>\n",
       "  </thead>\n",
       "  <tbody>\n",
       "    <tr>\n",
       "      <th>0</th>\n",
       "      <td>2014-04-01</td>\n",
       "      <td>6363749.701</td>\n",
       "    </tr>\n",
       "    <tr>\n",
       "      <th>1</th>\n",
       "      <td>2014-04-02</td>\n",
       "      <td>5630825.535</td>\n",
       "    </tr>\n",
       "    <tr>\n",
       "      <th>2</th>\n",
       "      <td>2014-04-03</td>\n",
       "      <td>5173891.385</td>\n",
       "    </tr>\n",
       "    <tr>\n",
       "      <th>3</th>\n",
       "      <td>2014-04-04</td>\n",
       "      <td>5044050.180</td>\n",
       "    </tr>\n",
       "    <tr>\n",
       "      <th>4</th>\n",
       "      <td>2014-04-05</td>\n",
       "      <td>4383318.300</td>\n",
       "    </tr>\n",
       "  </tbody>\n",
       "</table>\n",
       "</div>"
      ],
      "text/plain": [
       "        SETTD       DAILYT\n",
       "0  2014-04-01  6363749.701\n",
       "1  2014-04-02  5630825.535\n",
       "2  2014-04-03  5173891.385\n",
       "3  2014-04-04  5044050.180\n",
       "4  2014-04-05  4383318.300"
      ]
     },
     "execution_count": 3,
     "metadata": {},
     "output_type": "execute_result"
    }
   ],
   "source": [
    "data.head()"
   ]
  },
  {
   "cell_type": "code",
   "execution_count": 4,
   "metadata": {},
   "outputs": [],
   "source": [
    "data['SETTD'] = pd.to_datetime(data['SETTD'])"
   ]
  },
  {
   "cell_type": "code",
   "execution_count": 5,
   "metadata": {},
   "outputs": [
    {
     "data": {
      "text/html": [
       "<div>\n",
       "<style scoped>\n",
       "    .dataframe tbody tr th:only-of-type {\n",
       "        vertical-align: middle;\n",
       "    }\n",
       "\n",
       "    .dataframe tbody tr th {\n",
       "        vertical-align: top;\n",
       "    }\n",
       "\n",
       "    .dataframe thead th {\n",
       "        text-align: right;\n",
       "    }\n",
       "</style>\n",
       "<table border=\"1\" class=\"dataframe\">\n",
       "  <thead>\n",
       "    <tr style=\"text-align: right;\">\n",
       "      <th></th>\n",
       "      <th>DAILYT</th>\n",
       "    </tr>\n",
       "    <tr>\n",
       "      <th>SETTD</th>\n",
       "      <th></th>\n",
       "    </tr>\n",
       "  </thead>\n",
       "  <tbody>\n",
       "    <tr>\n",
       "      <th>2014-04-01</th>\n",
       "      <td>6363749.701</td>\n",
       "    </tr>\n",
       "    <tr>\n",
       "      <th>2014-04-02</th>\n",
       "      <td>5630825.535</td>\n",
       "    </tr>\n",
       "    <tr>\n",
       "      <th>2014-04-03</th>\n",
       "      <td>5173891.385</td>\n",
       "    </tr>\n",
       "    <tr>\n",
       "      <th>2014-04-04</th>\n",
       "      <td>5044050.180</td>\n",
       "    </tr>\n",
       "    <tr>\n",
       "      <th>2014-04-05</th>\n",
       "      <td>4383318.300</td>\n",
       "    </tr>\n",
       "  </tbody>\n",
       "</table>\n",
       "</div>"
      ],
      "text/plain": [
       "                 DAILYT\n",
       "SETTD                  \n",
       "2014-04-01  6363749.701\n",
       "2014-04-02  5630825.535\n",
       "2014-04-03  5173891.385\n",
       "2014-04-04  5044050.180\n",
       "2014-04-05  4383318.300"
      ]
     },
     "execution_count": 5,
     "metadata": {},
     "output_type": "execute_result"
    }
   ],
   "source": [
    "data.set_index('SETTD',inplace = True)\n",
    "data.head()"
   ]
  },
  {
   "cell_type": "markdown",
   "metadata": {},
   "source": [
    "Reframing the dataset such that the neural network will forecast the next value based on 2 weeks of historical data."
   ]
  },
  {
   "cell_type": "code",
   "execution_count": 6,
   "metadata": {},
   "outputs": [],
   "source": [
    "def series_to_supervised(data, n_in=1, n_out=1, dropnan=True):\n",
    "    n_vars = 1 if type(data) is list else data.shape[1]\n",
    "    dff = pd.DataFrame(data)\n",
    "    cols, names = list(), list()\n",
    "    # input sequence (t-n, ... t-1)\n",
    "    for i in range(n_in, 0, -1):\n",
    "        cols.append(dff.shift(i))\n",
    "        names += [('var%d(t-%d)' % (j+1, i)) for j in range(n_vars)]\n",
    "    # forecast sequence (t, t+1, ... t+n)\n",
    "    for i in range(0, n_out):\n",
    "        cols.append(dff.shift(-i))\n",
    "        if i == 0:\n",
    "            names += [('var%d(t)' % (j+1)) for j in range(n_vars)]\n",
    "        else:\n",
    "            names += [('var%d(t+%d)' % (j+1, i)) for j in range(n_vars)]\n",
    "    # put it all together\n",
    "    agg = pd.concat(cols, axis=1)\n",
    "    agg.columns = names\n",
    "    # drop rows with NaN values\n",
    "    if dropnan:\n",
    "        agg.dropna(inplace=True)\n",
    "    return agg"
   ]
  },
  {
   "cell_type": "code",
   "execution_count": 7,
   "metadata": {},
   "outputs": [],
   "source": [
    "reframed = series_to_supervised(data, 14, 1)\n"
   ]
  },
  {
   "cell_type": "code",
   "execution_count": 8,
   "metadata": {},
   "outputs": [
    {
     "data": {
      "text/html": [
       "<div>\n",
       "<style scoped>\n",
       "    .dataframe tbody tr th:only-of-type {\n",
       "        vertical-align: middle;\n",
       "    }\n",
       "\n",
       "    .dataframe tbody tr th {\n",
       "        vertical-align: top;\n",
       "    }\n",
       "\n",
       "    .dataframe thead th {\n",
       "        text-align: right;\n",
       "    }\n",
       "</style>\n",
       "<table border=\"1\" class=\"dataframe\">\n",
       "  <thead>\n",
       "    <tr style=\"text-align: right;\">\n",
       "      <th></th>\n",
       "      <th>var1(t-14)</th>\n",
       "      <th>var1(t-13)</th>\n",
       "      <th>var1(t-12)</th>\n",
       "      <th>var1(t-11)</th>\n",
       "      <th>var1(t-10)</th>\n",
       "      <th>var1(t-9)</th>\n",
       "      <th>var1(t-8)</th>\n",
       "      <th>var1(t-7)</th>\n",
       "      <th>var1(t-6)</th>\n",
       "      <th>var1(t-5)</th>\n",
       "      <th>var1(t-4)</th>\n",
       "      <th>var1(t-3)</th>\n",
       "      <th>var1(t-2)</th>\n",
       "      <th>var1(t-1)</th>\n",
       "      <th>var1(t)</th>\n",
       "    </tr>\n",
       "    <tr>\n",
       "      <th>SETTD</th>\n",
       "      <th></th>\n",
       "      <th></th>\n",
       "      <th></th>\n",
       "      <th></th>\n",
       "      <th></th>\n",
       "      <th></th>\n",
       "      <th></th>\n",
       "      <th></th>\n",
       "      <th></th>\n",
       "      <th></th>\n",
       "      <th></th>\n",
       "      <th></th>\n",
       "      <th></th>\n",
       "      <th></th>\n",
       "      <th></th>\n",
       "    </tr>\n",
       "  </thead>\n",
       "  <tbody>\n",
       "    <tr>\n",
       "      <th>2014-04-15</th>\n",
       "      <td>6363749.701</td>\n",
       "      <td>5630825.535</td>\n",
       "      <td>5173891.385</td>\n",
       "      <td>5044050.180</td>\n",
       "      <td>4383318.300</td>\n",
       "      <td>4262109.115</td>\n",
       "      <td>5099462.930</td>\n",
       "      <td>5181023.405</td>\n",
       "      <td>5263781.889</td>\n",
       "      <td>5291241.455</td>\n",
       "      <td>5253397.465</td>\n",
       "      <td>4462922.879</td>\n",
       "      <td>4318969.114</td>\n",
       "      <td>5128605.399</td>\n",
       "      <td>5158090.480</td>\n",
       "    </tr>\n",
       "    <tr>\n",
       "      <th>2014-04-16</th>\n",
       "      <td>5630825.535</td>\n",
       "      <td>5173891.385</td>\n",
       "      <td>5044050.180</td>\n",
       "      <td>4383318.300</td>\n",
       "      <td>4262109.115</td>\n",
       "      <td>5099462.930</td>\n",
       "      <td>5181023.405</td>\n",
       "      <td>5263781.889</td>\n",
       "      <td>5291241.455</td>\n",
       "      <td>5253397.465</td>\n",
       "      <td>4462922.879</td>\n",
       "      <td>4318969.114</td>\n",
       "      <td>5128605.399</td>\n",
       "      <td>5158090.480</td>\n",
       "      <td>5214111.668</td>\n",
       "    </tr>\n",
       "    <tr>\n",
       "      <th>2014-04-17</th>\n",
       "      <td>5173891.385</td>\n",
       "      <td>5044050.180</td>\n",
       "      <td>4383318.300</td>\n",
       "      <td>4262109.115</td>\n",
       "      <td>5099462.930</td>\n",
       "      <td>5181023.405</td>\n",
       "      <td>5263781.889</td>\n",
       "      <td>5291241.455</td>\n",
       "      <td>5253397.465</td>\n",
       "      <td>4462922.879</td>\n",
       "      <td>4318969.114</td>\n",
       "      <td>5128605.399</td>\n",
       "      <td>5158090.480</td>\n",
       "      <td>5214111.668</td>\n",
       "      <td>5042052.798</td>\n",
       "    </tr>\n",
       "    <tr>\n",
       "      <th>2014-04-18</th>\n",
       "      <td>5044050.180</td>\n",
       "      <td>4383318.300</td>\n",
       "      <td>4262109.115</td>\n",
       "      <td>5099462.930</td>\n",
       "      <td>5181023.405</td>\n",
       "      <td>5263781.889</td>\n",
       "      <td>5291241.455</td>\n",
       "      <td>5253397.465</td>\n",
       "      <td>4462922.879</td>\n",
       "      <td>4318969.114</td>\n",
       "      <td>5128605.399</td>\n",
       "      <td>5158090.480</td>\n",
       "      <td>5214111.668</td>\n",
       "      <td>5042052.798</td>\n",
       "      <td>4251321.740</td>\n",
       "    </tr>\n",
       "    <tr>\n",
       "      <th>2014-04-19</th>\n",
       "      <td>4383318.300</td>\n",
       "      <td>4262109.115</td>\n",
       "      <td>5099462.930</td>\n",
       "      <td>5181023.405</td>\n",
       "      <td>5263781.889</td>\n",
       "      <td>5291241.455</td>\n",
       "      <td>5253397.465</td>\n",
       "      <td>4462922.879</td>\n",
       "      <td>4318969.114</td>\n",
       "      <td>5128605.399</td>\n",
       "      <td>5158090.480</td>\n",
       "      <td>5214111.668</td>\n",
       "      <td>5042052.798</td>\n",
       "      <td>4251321.740</td>\n",
       "      <td>4279159.798</td>\n",
       "    </tr>\n",
       "  </tbody>\n",
       "</table>\n",
       "</div>"
      ],
      "text/plain": [
       "             var1(t-14)   var1(t-13)   var1(t-12)   var1(t-11)   var1(t-10)  \\\n",
       "SETTD                                                                         \n",
       "2014-04-15  6363749.701  5630825.535  5173891.385  5044050.180  4383318.300   \n",
       "2014-04-16  5630825.535  5173891.385  5044050.180  4383318.300  4262109.115   \n",
       "2014-04-17  5173891.385  5044050.180  4383318.300  4262109.115  5099462.930   \n",
       "2014-04-18  5044050.180  4383318.300  4262109.115  5099462.930  5181023.405   \n",
       "2014-04-19  4383318.300  4262109.115  5099462.930  5181023.405  5263781.889   \n",
       "\n",
       "              var1(t-9)    var1(t-8)    var1(t-7)    var1(t-6)    var1(t-5)  \\\n",
       "SETTD                                                                         \n",
       "2014-04-15  4262109.115  5099462.930  5181023.405  5263781.889  5291241.455   \n",
       "2014-04-16  5099462.930  5181023.405  5263781.889  5291241.455  5253397.465   \n",
       "2014-04-17  5181023.405  5263781.889  5291241.455  5253397.465  4462922.879   \n",
       "2014-04-18  5263781.889  5291241.455  5253397.465  4462922.879  4318969.114   \n",
       "2014-04-19  5291241.455  5253397.465  4462922.879  4318969.114  5128605.399   \n",
       "\n",
       "              var1(t-4)    var1(t-3)    var1(t-2)    var1(t-1)      var1(t)  \n",
       "SETTD                                                                        \n",
       "2014-04-15  5253397.465  4462922.879  4318969.114  5128605.399  5158090.480  \n",
       "2014-04-16  4462922.879  4318969.114  5128605.399  5158090.480  5214111.668  \n",
       "2014-04-17  4318969.114  5128605.399  5158090.480  5214111.668  5042052.798  \n",
       "2014-04-18  5128605.399  5158090.480  5214111.668  5042052.798  4251321.740  \n",
       "2014-04-19  5158090.480  5214111.668  5042052.798  4251321.740  4279159.798  "
      ]
     },
     "execution_count": 8,
     "metadata": {},
     "output_type": "execute_result"
    }
   ],
   "source": [
    "reframed.head()"
   ]
  },
  {
   "cell_type": "code",
   "execution_count": 9,
   "metadata": {},
   "outputs": [
    {
     "data": {
      "text/html": [
       "<div>\n",
       "<style scoped>\n",
       "    .dataframe tbody tr th:only-of-type {\n",
       "        vertical-align: middle;\n",
       "    }\n",
       "\n",
       "    .dataframe tbody tr th {\n",
       "        vertical-align: top;\n",
       "    }\n",
       "\n",
       "    .dataframe thead th {\n",
       "        text-align: right;\n",
       "    }\n",
       "</style>\n",
       "<table border=\"1\" class=\"dataframe\">\n",
       "  <thead>\n",
       "    <tr style=\"text-align: right;\">\n",
       "      <th></th>\n",
       "      <th>DAILYT</th>\n",
       "    </tr>\n",
       "    <tr>\n",
       "      <th>SETTD</th>\n",
       "      <th></th>\n",
       "    </tr>\n",
       "  </thead>\n",
       "  <tbody>\n",
       "    <tr>\n",
       "      <th>2014-04-01</th>\n",
       "      <td>6363749.701</td>\n",
       "    </tr>\n",
       "    <tr>\n",
       "      <th>2014-04-02</th>\n",
       "      <td>5630825.535</td>\n",
       "    </tr>\n",
       "    <tr>\n",
       "      <th>2014-04-03</th>\n",
       "      <td>5173891.385</td>\n",
       "    </tr>\n",
       "    <tr>\n",
       "      <th>2014-04-04</th>\n",
       "      <td>5044050.180</td>\n",
       "    </tr>\n",
       "    <tr>\n",
       "      <th>2014-04-05</th>\n",
       "      <td>4383318.300</td>\n",
       "    </tr>\n",
       "    <tr>\n",
       "      <th>2014-04-06</th>\n",
       "      <td>4262109.115</td>\n",
       "    </tr>\n",
       "    <tr>\n",
       "      <th>2014-04-07</th>\n",
       "      <td>5099462.930</td>\n",
       "    </tr>\n",
       "    <tr>\n",
       "      <th>2014-04-08</th>\n",
       "      <td>5181023.405</td>\n",
       "    </tr>\n",
       "    <tr>\n",
       "      <th>2014-04-09</th>\n",
       "      <td>5263781.889</td>\n",
       "    </tr>\n",
       "    <tr>\n",
       "      <th>2014-04-10</th>\n",
       "      <td>5291241.455</td>\n",
       "    </tr>\n",
       "    <tr>\n",
       "      <th>2014-04-11</th>\n",
       "      <td>5253397.465</td>\n",
       "    </tr>\n",
       "    <tr>\n",
       "      <th>2014-04-12</th>\n",
       "      <td>4462922.879</td>\n",
       "    </tr>\n",
       "    <tr>\n",
       "      <th>2014-04-13</th>\n",
       "      <td>4318969.114</td>\n",
       "    </tr>\n",
       "    <tr>\n",
       "      <th>2014-04-14</th>\n",
       "      <td>5128605.399</td>\n",
       "    </tr>\n",
       "    <tr>\n",
       "      <th>2014-04-15</th>\n",
       "      <td>5158090.480</td>\n",
       "    </tr>\n",
       "  </tbody>\n",
       "</table>\n",
       "</div>"
      ],
      "text/plain": [
       "                 DAILYT\n",
       "SETTD                  \n",
       "2014-04-01  6363749.701\n",
       "2014-04-02  5630825.535\n",
       "2014-04-03  5173891.385\n",
       "2014-04-04  5044050.180\n",
       "2014-04-05  4383318.300\n",
       "2014-04-06  4262109.115\n",
       "2014-04-07  5099462.930\n",
       "2014-04-08  5181023.405\n",
       "2014-04-09  5263781.889\n",
       "2014-04-10  5291241.455\n",
       "2014-04-11  5253397.465\n",
       "2014-04-12  4462922.879\n",
       "2014-04-13  4318969.114\n",
       "2014-04-14  5128605.399\n",
       "2014-04-15  5158090.480"
      ]
     },
     "execution_count": 9,
     "metadata": {},
     "output_type": "execute_result"
    }
   ],
   "source": [
    "data.head(15)"
   ]
  },
  {
   "cell_type": "markdown",
   "metadata": {},
   "source": [
    "# Splitting Train/Test"
   ]
  },
  {
   "cell_type": "markdown",
   "metadata": {},
   "source": [
    "As usual, I will be forecasting the energy consumption from 1 January 2019 till 30 September 2019."
   ]
  },
  {
   "cell_type": "code",
   "execution_count": 10,
   "metadata": {},
   "outputs": [],
   "source": [
    "values = reframed.values\n",
    "\n",
    "n_test_time = 273\n",
    "train = values[:-n_test_time, :]\n",
    "test = values[-n_test_time:, :]"
   ]
  },
  {
   "cell_type": "markdown",
   "metadata": {},
   "source": [
    "To reduce computational cost, the train and test set are transformed with the MinMaxScaler function."
   ]
  },
  {
   "cell_type": "code",
   "execution_count": 11,
   "metadata": {},
   "outputs": [],
   "source": [
    "from sklearn.preprocessing import MinMaxScaler"
   ]
  },
  {
   "cell_type": "code",
   "execution_count": 12,
   "metadata": {},
   "outputs": [],
   "source": [
    "scaler = MinMaxScaler()\n",
    "scaled_train = scaler.fit_transform(train)\n",
    "scaled_test = scaler.transform(test)"
   ]
  },
  {
   "cell_type": "code",
   "execution_count": 13,
   "metadata": {},
   "outputs": [
    {
     "name": "stdout",
     "output_type": "stream",
     "text": [
      "(1722, 14, 1) (1722,) (273, 14, 1) (273,)\n"
     ]
    }
   ],
   "source": [
    "# split into input and outputs\n",
    "train_X, train_y = scaled_train[:, :-1], scaled_train[:, -1]\n",
    "test_X, test_y = scaled_test[:, :-1], scaled_test[:, -1]\n",
    "# reshape input to be 3D [samples, timesteps, features]\n",
    "train_X = train_X.reshape((train_X.shape[0], train_X.shape[1], 1))\n",
    "test_X = test_X.reshape((test_X.shape[0], test_X.shape[1], 1))\n",
    "print(train_X.shape, train_y.shape, test_X.shape, test_y.shape) \n",
    "# We reshaped the input into the 3D format as expected by LSTMs, namely [samples, timesteps, features]."
   ]
  },
  {
   "cell_type": "markdown",
   "metadata": {},
   "source": [
    "# Modelling"
   ]
  },
  {
   "cell_type": "code",
   "execution_count": 14,
   "metadata": {},
   "outputs": [
    {
     "name": "stderr",
     "output_type": "stream",
     "text": [
      "Using TensorFlow backend.\n"
     ]
    }
   ],
   "source": [
    "from keras.models import Sequential\n",
    "from keras.layers import LSTM\n",
    "from keras.layers import Dense\n",
    "from keras.layers import Dropout"
   ]
  },
  {
   "cell_type": "code",
   "execution_count": 15,
   "metadata": {},
   "outputs": [],
   "source": [
    "model = Sequential()\n",
    "model.add(LSTM(100, input_shape=(train_X.shape[1], train_X.shape[2])))\n",
    "model.add(Dropout(0.2))\n",
    "#    model.add(LSTM(70))\n",
    "#    model.add(Dropout(0.3))\n",
    "model.add(Dense(1))\n",
    "model.compile(loss='mean_squared_error', optimizer='adam')"
   ]
  },
  {
   "cell_type": "code",
   "execution_count": 16,
   "metadata": {
    "scrolled": false
   },
   "outputs": [
    {
     "name": "stdout",
     "output_type": "stream",
     "text": [
      "Train on 1722 samples, validate on 273 samples\n",
      "Epoch 1/100\n",
      " - 7s - loss: 0.0944 - val_loss: 0.0312\n",
      "Epoch 2/100\n",
      " - 2s - loss: 0.0249 - val_loss: 0.0312\n",
      "Epoch 3/100\n",
      " - 2s - loss: 0.0227 - val_loss: 0.0302\n",
      "Epoch 4/100\n",
      " - 2s - loss: 0.0225 - val_loss: 0.0300\n",
      "Epoch 5/100\n",
      " - 2s - loss: 0.0216 - val_loss: 0.0299\n",
      "Epoch 6/100\n",
      " - 2s - loss: 0.0218 - val_loss: 0.0298\n",
      "Epoch 7/100\n",
      " - 2s - loss: 0.0214 - val_loss: 0.0296\n",
      "Epoch 8/100\n",
      " - 2s - loss: 0.0210 - val_loss: 0.0293\n",
      "Epoch 9/100\n",
      " - 2s - loss: 0.0210 - val_loss: 0.0290\n",
      "Epoch 10/100\n",
      " - 3s - loss: 0.0207 - val_loss: 0.0287\n",
      "Epoch 11/100\n",
      " - 2s - loss: 0.0205 - val_loss: 0.0284\n",
      "Epoch 12/100\n",
      " - 2s - loss: 0.0204 - val_loss: 0.0281\n",
      "Epoch 13/100\n",
      " - 2s - loss: 0.0201 - val_loss: 0.0278\n",
      "Epoch 14/100\n",
      " - 2s - loss: 0.0203 - val_loss: 0.0276\n",
      "Epoch 15/100\n",
      " - 2s - loss: 0.0201 - val_loss: 0.0273\n",
      "Epoch 16/100\n",
      " - 2s - loss: 0.0198 - val_loss: 0.0270\n",
      "Epoch 17/100\n",
      " - 2s - loss: 0.0197 - val_loss: 0.0267\n",
      "Epoch 18/100\n",
      " - 2s - loss: 0.0195 - val_loss: 0.0265\n",
      "Epoch 19/100\n",
      " - 2s - loss: 0.0194 - val_loss: 0.0261\n",
      "Epoch 20/100\n",
      " - 2s - loss: 0.0194 - val_loss: 0.0259\n",
      "Epoch 21/100\n",
      " - 2s - loss: 0.0187 - val_loss: 0.0256\n",
      "Epoch 22/100\n",
      " - 2s - loss: 0.0189 - val_loss: 0.0252\n",
      "Epoch 23/100\n",
      " - 2s - loss: 0.0186 - val_loss: 0.0250\n",
      "Epoch 24/100\n",
      " - 2s - loss: 0.0184 - val_loss: 0.0247\n",
      "Epoch 25/100\n",
      " - 2s - loss: 0.0185 - val_loss: 0.0243\n",
      "Epoch 26/100\n",
      " - 2s - loss: 0.0184 - val_loss: 0.0242\n",
      "Epoch 27/100\n",
      " - 2s - loss: 0.0183 - val_loss: 0.0239\n",
      "Epoch 28/100\n",
      " - 2s - loss: 0.0182 - val_loss: 0.0236\n",
      "Epoch 29/100\n",
      " - 2s - loss: 0.0178 - val_loss: 0.0231\n",
      "Epoch 30/100\n",
      " - 2s - loss: 0.0173 - val_loss: 0.0229\n",
      "Epoch 31/100\n",
      " - 2s - loss: 0.0172 - val_loss: 0.0224\n",
      "Epoch 32/100\n",
      " - 2s - loss: 0.0174 - val_loss: 0.0222\n",
      "Epoch 33/100\n",
      " - 2s - loss: 0.0170 - val_loss: 0.0219\n",
      "Epoch 34/100\n",
      " - 2s - loss: 0.0167 - val_loss: 0.0215\n",
      "Epoch 35/100\n",
      " - 2s - loss: 0.0164 - val_loss: 0.0212\n",
      "Epoch 36/100\n",
      " - 2s - loss: 0.0164 - val_loss: 0.0209\n",
      "Epoch 37/100\n",
      " - 2s - loss: 0.0160 - val_loss: 0.0206\n",
      "Epoch 38/100\n",
      " - 2s - loss: 0.0160 - val_loss: 0.0201\n",
      "Epoch 39/100\n",
      " - 2s - loss: 0.0154 - val_loss: 0.0197\n",
      "Epoch 40/100\n",
      " - 2s - loss: 0.0150 - val_loss: 0.0191\n",
      "Epoch 41/100\n",
      " - 2s - loss: 0.0148 - val_loss: 0.0188\n",
      "Epoch 42/100\n",
      " - 2s - loss: 0.0145 - val_loss: 0.0185\n",
      "Epoch 43/100\n",
      " - 2s - loss: 0.0144 - val_loss: 0.0185\n",
      "Epoch 44/100\n",
      " - 2s - loss: 0.0139 - val_loss: 0.0179\n",
      "Epoch 45/100\n",
      " - 2s - loss: 0.0138 - val_loss: 0.0177\n",
      "Epoch 46/100\n",
      " - 2s - loss: 0.0141 - val_loss: 0.0174\n",
      "Epoch 47/100\n",
      " - 2s - loss: 0.0134 - val_loss: 0.0172\n",
      "Epoch 48/100\n",
      " - 2s - loss: 0.0132 - val_loss: 0.0168\n",
      "Epoch 49/100\n",
      " - 2s - loss: 0.0131 - val_loss: 0.0168\n",
      "Epoch 50/100\n",
      " - 2s - loss: 0.0130 - val_loss: 0.0167\n",
      "Epoch 51/100\n",
      " - 2s - loss: 0.0129 - val_loss: 0.0162\n",
      "Epoch 52/100\n",
      " - 2s - loss: 0.0128 - val_loss: 0.0161\n",
      "Epoch 53/100\n",
      " - 2s - loss: 0.0130 - val_loss: 0.0160\n",
      "Epoch 54/100\n",
      " - 2s - loss: 0.0123 - val_loss: 0.0160\n",
      "Epoch 55/100\n",
      " - 2s - loss: 0.0128 - val_loss: 0.0158\n",
      "Epoch 56/100\n",
      " - 2s - loss: 0.0127 - val_loss: 0.0159\n",
      "Epoch 57/100\n",
      " - 2s - loss: 0.0124 - val_loss: 0.0157\n",
      "Epoch 58/100\n",
      " - 2s - loss: 0.0125 - val_loss: 0.0155\n",
      "Epoch 59/100\n",
      " - 2s - loss: 0.0125 - val_loss: 0.0155\n",
      "Epoch 60/100\n",
      " - 2s - loss: 0.0125 - val_loss: 0.0154\n",
      "Epoch 61/100\n",
      " - 2s - loss: 0.0125 - val_loss: 0.0154\n",
      "Epoch 62/100\n",
      " - 2s - loss: 0.0122 - val_loss: 0.0153\n",
      "Epoch 63/100\n",
      " - 2s - loss: 0.0123 - val_loss: 0.0151\n",
      "Epoch 64/100\n",
      " - 2s - loss: 0.0128 - val_loss: 0.0153\n",
      "Epoch 65/100\n",
      " - 2s - loss: 0.0122 - val_loss: 0.0152\n",
      "Epoch 66/100\n",
      " - 2s - loss: 0.0120 - val_loss: 0.0152\n",
      "Epoch 67/100\n",
      " - 2s - loss: 0.0119 - val_loss: 0.0151\n",
      "Epoch 68/100\n",
      " - 2s - loss: 0.0121 - val_loss: 0.0152\n",
      "Epoch 69/100\n",
      " - 2s - loss: 0.0126 - val_loss: 0.0152\n",
      "Epoch 70/100\n",
      " - 2s - loss: 0.0125 - val_loss: 0.0151\n",
      "Epoch 71/100\n",
      " - 2s - loss: 0.0122 - val_loss: 0.0150\n",
      "Epoch 72/100\n",
      " - 2s - loss: 0.0122 - val_loss: 0.0150\n",
      "Epoch 73/100\n",
      " - 2s - loss: 0.0123 - val_loss: 0.0149\n",
      "Epoch 74/100\n",
      " - 2s - loss: 0.0118 - val_loss: 0.0150\n",
      "Epoch 75/100\n",
      " - 2s - loss: 0.0124 - val_loss: 0.0150\n",
      "Epoch 76/100\n",
      " - 2s - loss: 0.0124 - val_loss: 0.0151\n",
      "Epoch 77/100\n",
      " - 2s - loss: 0.0120 - val_loss: 0.0150\n",
      "Epoch 78/100\n",
      " - 2s - loss: 0.0125 - val_loss: 0.0150\n",
      "Epoch 79/100\n",
      " - 2s - loss: 0.0122 - val_loss: 0.0149\n",
      "Epoch 80/100\n",
      " - 2s - loss: 0.0119 - val_loss: 0.0149\n",
      "Epoch 81/100\n",
      " - 2s - loss: 0.0122 - val_loss: 0.0148\n",
      "Epoch 82/100\n",
      " - 2s - loss: 0.0123 - val_loss: 0.0150\n",
      "Epoch 83/100\n",
      " - 2s - loss: 0.0127 - val_loss: 0.0148\n",
      "Epoch 84/100\n",
      " - 2s - loss: 0.0120 - val_loss: 0.0149\n",
      "Epoch 85/100\n",
      " - 2s - loss: 0.0118 - val_loss: 0.0148\n",
      "Epoch 86/100\n",
      " - 2s - loss: 0.0122 - val_loss: 0.0148\n",
      "Epoch 87/100\n",
      " - 2s - loss: 0.0123 - val_loss: 0.0150\n",
      "Epoch 88/100\n",
      " - 2s - loss: 0.0123 - val_loss: 0.0152\n",
      "Epoch 89/100\n",
      " - 2s - loss: 0.0120 - val_loss: 0.0148\n",
      "Epoch 90/100\n",
      " - 2s - loss: 0.0118 - val_loss: 0.0145\n",
      "Epoch 91/100\n",
      " - 2s - loss: 0.0117 - val_loss: 0.0145\n",
      "Epoch 92/100\n",
      " - 2s - loss: 0.0120 - val_loss: 0.0145\n",
      "Epoch 93/100\n",
      " - 2s - loss: 0.0117 - val_loss: 0.0144\n",
      "Epoch 94/100\n",
      " - 2s - loss: 0.0114 - val_loss: 0.0147\n",
      "Epoch 95/100\n",
      " - 2s - loss: 0.0115 - val_loss: 0.0146\n",
      "Epoch 96/100\n",
      " - 2s - loss: 0.0117 - val_loss: 0.0144\n",
      "Epoch 97/100\n",
      " - 2s - loss: 0.0115 - val_loss: 0.0145\n",
      "Epoch 98/100\n",
      " - 2s - loss: 0.0115 - val_loss: 0.0143\n",
      "Epoch 99/100\n",
      " - 2s - loss: 0.0116 - val_loss: 0.0144\n",
      "Epoch 100/100\n",
      " - 2s - loss: 0.0116 - val_loss: 0.0143\n"
     ]
    }
   ],
   "source": [
    "# fit network\n",
    "history = model.fit(train_X, train_y, epochs=100, batch_size=80, \n",
    "                    validation_data=(test_X, test_y), \n",
    "                    verbose=2, shuffle=False)"
   ]
  },
  {
   "cell_type": "code",
   "execution_count": 17,
   "metadata": {},
   "outputs": [
    {
     "data": {
      "image/png": "[encoded data removed]",
      "text/plain": [
       "<Figure size 432x288 with 1 Axes>"
      ]
     },
     "metadata": {
      "needs_background": "light"
     },
     "output_type": "display_data"
    }
   ],
   "source": [
    "# summarize history for loss\n",
    "plt.plot(history.history['loss'])\n",
    "plt.plot(history.history['val_loss'])\n",
    "plt.title('model loss')\n",
    "plt.ylabel('loss')\n",
    "plt.xlabel('epoch')\n",
    "plt.legend(['train', 'test'], loc='upper right')\n",
    "plt.show()"
   ]
  },
  {
   "cell_type": "code",
   "execution_count": 18,
   "metadata": {},
   "outputs": [],
   "source": [
    "# make a prediction\n",
    "yhat = model.predict(test_X)\n",
    "res_test_X = test_X.reshape((test_X.shape[0], 14))\n",
    "# invert scaling for forecast\n",
    "inv_yhat = np.concatenate((res_test_X[:, -14:], yhat), axis=1)\n",
    "inv_yhat = scaler.inverse_transform(inv_yhat)\n",
    "inv_yhat = inv_yhat[:,-1]\n",
    "# invert scaling for actual\n",
    "test_y = test_y.reshape((len(test_y), 1))\n",
    "inv_y = np.concatenate((res_test_X[:, -14:], test_y), axis=1)\n",
    "inv_y = scaler.inverse_transform(inv_y)\n",
    "inv_y = inv_y[:,-1]"
   ]
  },
  {
   "cell_type": "code",
   "execution_count": 19,
   "metadata": {},
   "outputs": [
    {
     "data": {
      "text/plain": [
       "<matplotlib.legend.Legend at 0x1a47dd0250>"
      ]
     },
     "execution_count": 19,
     "metadata": {},
     "output_type": "execute_result"
    },
    {
     "data": {
      "image/png": "[encoded data removed]",
      "text/plain": [
       "<Figure size 1080x360 with 1 Axes>"
      ]
     },
     "metadata": {
      "needs_background": "light"
     },
     "output_type": "display_data"
    }
   ],
   "source": [
    "plt.figure(figsize = (15,5))\n",
    "plt.plot(inv_y, label = 'Actual')\n",
    "plt.plot(inv_yhat, label = 'Predict')\n",
    "plt.ylabel('Energy Consumption (kWh)')\n",
    "plt.legend()"
   ]
  },
  {
   "cell_type": "markdown",
   "metadata": {},
   "source": [
    "# Performance Metric"
   ]
  },
  {
   "cell_type": "code",
   "execution_count": 20,
   "metadata": {},
   "outputs": [],
   "source": [
    "from sklearn.metrics import r2_score\n",
    "#############################################\n",
    "#         evaluation function by AMMAR      #\n",
    "#############################################\n",
    "# Evaluation metrics\n",
    "# MAPE mean_absolute_percentage_error\n",
    "def regMAPE(y_true, y_pred):\n",
    "    return np.mean(np.abs((y_true - y_pred) / (y_true + 1.))) * 100\n",
    "\n",
    "\n",
    "# print_error\n",
    "def regPrintErr(y_true, y_pred):\n",
    "    print('R2 Score: {}'.format(r2_score(y_true, y_pred)))\n",
    "    print('MAPE: {}'.format(regMAPE(y_true, y_pred)))"
   ]
  },
  {
   "cell_type": "code",
   "execution_count": 21,
   "metadata": {},
   "outputs": [
    {
     "name": "stdout",
     "output_type": "stream",
     "text": [
      "R2 Score: 0.7230214599923221\n",
      "MAPE: 7.063276732341361\n"
     ]
    }
   ],
   "source": [
    "regPrintErr(inv_y,inv_yhat)"
   ]
  },
  {
   "cell_type": "markdown",
   "metadata": {},
   "source": [
    "The model evaluations are performed in 'Model Evaluation' notebook."
   ]
  },
  {
   "cell_type": "code",
   "execution_count": 22,
   "metadata": {},
   "outputs": [],
   "source": [
    "results = {'Actual': inv_y, 'LSTM': inv_yhat}"
   ]
  },
  {
   "cell_type": "code",
   "execution_count": 23,
   "metadata": {},
   "outputs": [],
   "source": [
    "results_LSTM = pd.DataFrame(results)"
   ]
  },
  {
   "cell_type": "code",
   "execution_count": 24,
   "metadata": {},
   "outputs": [
    {
     "data": {
      "text/html": [
       "<div>\n",
       "<style scoped>\n",
       "    .dataframe tbody tr th:only-of-type {\n",
       "        vertical-align: middle;\n",
       "    }\n",
       "\n",
       "    .dataframe tbody tr th {\n",
       "        vertical-align: top;\n",
       "    }\n",
       "\n",
       "    .dataframe thead th {\n",
       "        text-align: right;\n",
       "    }\n",
       "</style>\n",
       "<table border=\"1\" class=\"dataframe\">\n",
       "  <thead>\n",
       "    <tr style=\"text-align: right;\">\n",
       "      <th></th>\n",
       "      <th>Actual</th>\n",
       "      <th>LSTM</th>\n",
       "    </tr>\n",
       "  </thead>\n",
       "  <tbody>\n",
       "    <tr>\n",
       "      <th>0</th>\n",
       "      <td>3858957.991</td>\n",
       "      <td>4.515832e+06</td>\n",
       "    </tr>\n",
       "    <tr>\n",
       "      <th>1</th>\n",
       "      <td>4264155.819</td>\n",
       "      <td>4.406280e+06</td>\n",
       "    </tr>\n",
       "    <tr>\n",
       "      <th>2</th>\n",
       "      <td>4690920.697</td>\n",
       "      <td>4.721521e+06</td>\n",
       "    </tr>\n",
       "    <tr>\n",
       "      <th>3</th>\n",
       "      <td>5841792.852</td>\n",
       "      <td>4.815758e+06</td>\n",
       "    </tr>\n",
       "    <tr>\n",
       "      <th>4</th>\n",
       "      <td>3913922.670</td>\n",
       "      <td>5.420984e+06</td>\n",
       "    </tr>\n",
       "  </tbody>\n",
       "</table>\n",
       "</div>"
      ],
      "text/plain": [
       "        Actual          LSTM\n",
       "0  3858957.991  4.515832e+06\n",
       "1  4264155.819  4.406280e+06\n",
       "2  4690920.697  4.721521e+06\n",
       "3  5841792.852  4.815758e+06\n",
       "4  3913922.670  5.420984e+06"
      ]
     },
     "execution_count": 24,
     "metadata": {},
     "output_type": "execute_result"
    }
   ],
   "source": [
    "results_LSTM.head()"
   ]
  },
  {
   "cell_type": "code",
   "execution_count": 25,
   "metadata": {},
   "outputs": [],
   "source": [
    "results_LSTM.to_csv('results_LSTM.csv')"
   ]
  },
  {
   "cell_type": "code",
   "execution_count": null,
   "metadata": {},
   "outputs": [],
   "source": []
  }
 ],
 "metadata": {
  "kernelspec": {
   "display_name": "Python 3",
   "language": "python",
   "name": "python3"
  },
  "language_info": {
   "codemirror_mode": {
    "name": "ipython",
    "version": 3
   },
   "file_extension": ".py",
   "mimetype": "text/x-python",
   "name": "python",
   "nbconvert_exporter": "python",
   "pygments_lexer": "ipython3",
   "version": "3.7.7"
  }
 },
 "nbformat": 4,
 "nbformat_minor": 4
}
